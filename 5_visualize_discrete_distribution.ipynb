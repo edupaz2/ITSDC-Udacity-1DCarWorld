{
 "cells": [
  {
   "cell_type": "markdown",
   "metadata": {},
   "source": [
    "### Visualize a discrete probability distribution\n",
    "\n",
    "Fill in the TODOs to get the function working"
   ]
  },
  {
   "cell_type": "code",
   "execution_count": 4,
   "metadata": {
    "collapsed": true
   },
   "outputs": [],
   "source": [
    "import matplotlib.pyplot as plt\n",
    "import numpy as np\n",
    "\n",
    "def bar_heights(intervals, probabilities, total_probability):\n",
    "\n",
    "    heights = []\n",
    "    \n",
    "    #TODO: sum the relative probabilities\n",
    "    total_relative_prob = sum(probabilities)\n",
    "    \n",
    "    for i in range(0, len(probabilities)):\n",
    "        \n",
    "        #TODO: Looping through the probabilities list, \n",
    "        #      take one probability at a time and \n",
    "        #      calculate the area of each bar. Think about how you can \n",
    "        #      calculate the area of a bar knowing the total_probability,\n",
    "        #      relative probability, and the sum of the relative probabilities\n",
    "        width = abs(intervals[i+1]-intervals[i])\n",
    "        bar_area = probabilities[i] / total_relative_prob * total_probability\n",
    "        height = bar_area/width\n",
    "        # TODO: Calculate the height of the bar and append the value to the\n",
    "        # heights list.Remember that the area of each bar \n",
    "        # is the width of the bar times the height of the bar\n",
    "        heights.append(height)\n",
    "        \n",
    "    return heights"
   ]
  },
  {
   "cell_type": "markdown",
   "metadata": {},
   "source": [
    "Run the next cell to test out your function"
   ]
  },
  {
   "cell_type": "code",
   "execution_count": 7,
   "metadata": {},
   "outputs": [
    {
     "name": "stdout",
     "output_type": "stream",
     "text": [
      "[0.0006451612903225806, 0.0032258064516129032, 0.0016129032258064516, 0.003870967741935484, 0.0005376344086021505]\n"
     ]
    }
   ],
   "source": [
    "print(bar_heights([0, 5, 10, 16, 21, 24], [1, 5, 3, 6, 0.5], 0.05))"
   ]
  },
  {
   "cell_type": "markdown",
   "metadata": {},
   "source": [
    "### Visualize Results\n",
    "\n",
    "Once the bar_heights function is working, here is some code to visualize your results."
   ]
  },
  {
   "cell_type": "code",
   "execution_count": 8,
   "metadata": {},
   "outputs": [
    {
     "data": {
      "image/png": "[encoded data removed]",
      "text/plain": [
       "<matplotlib.figure.Figure at 0x7f54700502b0>"
      ]
     },
     "metadata": {},
     "output_type": "display_data"
    }
   ],
   "source": [
    "hour_intervals = [0, 5, 10, 16, 21, 24]\n",
    "probability_intervals = [1, 5, 3, 6, 1/2]\n",
    "accident_probability = 0.05\n",
    "\n",
    "heights = bar_heights(hour_intervals, probability_intervals, accident_probability)\n",
    "freqs = np.array(heights)\n",
    "bins = np.array(hour_intervals)\n",
    "widths = bins[1:] - bins[:-1]\n",
    "freqs = freqs.astype(np.float)\n",
    "\n",
    "widths = bins[1:] - bins[:-1]\n",
    "\n",
    "tick_interval = 1\n",
    "plt.bar(bins[:-1], freqs, width=widths, align='edge', edgecolor='black', alpha=0.5)\n",
    "plt.xlabel('Interval')\n",
    "plt.ylabel('Probability Distribution')\n",
    "plt.title('Probability Distribution')\n",
    "plt.xticks(np.arange(min(bins), max(bins)+1, tick_interval))\n",
    "\n",
    "plt.show()"
   ]
  }
 ],
 "metadata": {
  "kernelspec": {
   "display_name": "Python 3",
   "language": "python",
   "name": "python3"
  },
  "language_info": {
   "codemirror_mode": {
    "name": "ipython",
    "version": 3
   },
   "file_extension": ".py",
   "mimetype": "text/x-python",
   "name": "python",
   "nbconvert_exporter": "python",
   "pygments_lexer": "ipython3",
   "version": "3.6.1"
  }
 },
 "nbformat": 4,
 "nbformat_minor": 2
}
