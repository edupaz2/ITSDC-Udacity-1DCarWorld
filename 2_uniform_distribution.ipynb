{
 "cells": [
  {
   "cell_type": "markdown",
   "metadata": {},
   "source": [
    "# Uniform Probability Distribution\n",
    "\n",
    "### Skills Learned in this Exercise\n",
    "* writing functions in python\n",
    "* calculating uniform continuous distributions\n",
    "* calculating probabilities from continuous uniform distributions.\n",
    "\n",
    "### Continuous Uniform Distribution\n",
    "\n",
    "From the lesson videos, the wheel of fortune and spinning bottle examples both had continuous uniform distributions. You spin, and the arrow or bottle had an equal chance of stopping anywhere between 0 and 360 degrees. \n",
    "\n",
    "For this first programming exercise, write a function that calculates the probability that the arrow will stop between two angles. You'll want this function to work with any continuous uniform distribution, so the function will have four inputs:\n",
    "* `low_range` representing the first angle\n",
    "* `high_range` representing the second angle\n",
    "* `minimum` representing the minimum value of the distribution (0 for the spinning example)\n",
    "* `maximum` representing the maximum value of the distribution (360 for the spinning example)\n",
    "\n",
    "The output should be the probability that the arrow stops between low_range and high_range."
   ]
  },
  {
   "cell_type": "markdown",
   "metadata": {},
   "source": [
    "# Uniform Probability Distribution Function\n",
    "\n",
    "The probability_uniform function calculates the probability of an event\n",
    "given a range of values from a uniform continuous probability distribution. \n",
    "\n",
    "- low_range is the low end of the region of interest\n",
    "\n",
    "- high_range is the high end of the region of interest\n",
    "\n",
    "- minimum is the minimum value of the uniform probability \n",
    "  distribution (0 for a spinning wheel)\n",
    "\n",
    "- maximum is the maximum value of the uniform probability \n",
    "  distribution (360 for a spinning wheel).\n"
   ]
  },
  {
   "cell_type": "code",
   "execution_count": 4,
   "metadata": {
    "collapsed": true
   },
   "outputs": [],
   "source": [
    "def probability_uniform(low_range, high_range, minimum, maximum):\n",
    "    \n",
    "    ## TODO: Calculate the probability of an event occurring \n",
    "    ## between low_range and high_range.\n",
    "    ## Assume the user has given valid inputs such that low_range < high_range.\n",
    "    ##   minimum < maximum\n",
    "    ##\n",
    "    return (high_range - low_range) / (maximum - minimum)\n",
    "    \n",
    "\n"
   ]
  },
  {
   "cell_type": "code",
   "execution_count": 8,
   "metadata": {},
   "outputs": [
    {
     "name": "stdout",
     "output_type": "stream",
     "text": [
      "1.2413793103448276\n"
     ]
    },
    {
     "ename": "AssertionError",
     "evalue": "",
     "output_type": "error",
     "traceback": [
      "\u001b[0;31m---------------------------------------------------------------------------\u001b[0m",
      "\u001b[0;31mAssertionError\u001b[0m                            Traceback (most recent call last)",
      "\u001b[0;32m<ipython-input-8-f6eaa41a074a>\u001b[0m in \u001b[0;36m<module>\u001b[0;34m()\u001b[0m\n\u001b[1;32m      2\u001b[0m \u001b[0;31m## If the cell produces no output, your answer was as expected\u001b[0m\u001b[0;34m\u001b[0m\u001b[0;34m\u001b[0m\u001b[0m\n\u001b[1;32m      3\u001b[0m \u001b[0mprint\u001b[0m\u001b[0;34m(\u001b[0m\u001b[0mprobability_uniform\u001b[0m\u001b[0;34m(\u001b[0m\u001b[0;36m15\u001b[0m\u001b[0;34m,\u001b[0m \u001b[0;36m305\u001b[0m\u001b[0;34m,\u001b[0m \u001b[0;36m0\u001b[0m\u001b[0;34m,\u001b[0m \u001b[0;36m360\u001b[0m\u001b[0;34m)\u001b[0m\u001b[0;34m)\u001b[0m\u001b[0;34m\u001b[0m\u001b[0m\n\u001b[0;32m----> 4\u001b[0;31m \u001b[0;32massert\u001b[0m \u001b[0;34m\"{0:.2f}\"\u001b[0m\u001b[0;34m.\u001b[0m\u001b[0mformat\u001b[0m\u001b[0;34m(\u001b[0m\u001b[0mprobability_uniform\u001b[0m\u001b[0;34m(\u001b[0m\u001b[0;36m15\u001b[0m\u001b[0;34m,\u001b[0m \u001b[0;36m305\u001b[0m\u001b[0;34m,\u001b[0m \u001b[0;36m0\u001b[0m\u001b[0;34m,\u001b[0m \u001b[0;36m360\u001b[0m\u001b[0;34m)\u001b[0m\u001b[0;34m)\u001b[0m \u001b[0;34m==\u001b[0m \u001b[0;34m'0.81'\u001b[0m\u001b[0;34m\u001b[0m\u001b[0m\n\u001b[0m\u001b[1;32m      5\u001b[0m \u001b[0;32massert\u001b[0m \u001b[0;34m\"{0:.2f}\"\u001b[0m\u001b[0;34m.\u001b[0m\u001b[0mformat\u001b[0m\u001b[0;34m(\u001b[0m\u001b[0mprobability_uniform\u001b[0m\u001b[0;34m(\u001b[0m\u001b[0;36m1\u001b[0m\u001b[0;34m,\u001b[0m \u001b[0;36m5\u001b[0m\u001b[0;34m,\u001b[0m \u001b[0;36m0\u001b[0m\u001b[0;34m,\u001b[0m \u001b[0;36m10\u001b[0m\u001b[0;34m)\u001b[0m\u001b[0;34m)\u001b[0m \u001b[0;34m==\u001b[0m \u001b[0;34m'0.40'\u001b[0m\u001b[0;34m\u001b[0m\u001b[0m\n",
      "\u001b[0;31mAssertionError\u001b[0m: "
     ]
    }
   ],
   "source": [
    "## TODO: Test your results by running this cell.\n",
    "## If the cell produces no output, your answer was as expected\n",
    "print(probability_uniform(15, 305, 0, 360))\n",
    "assert \"{0:.2f}\".format(probability_uniform(15, 305, 0, 360)) == '0.81'\n",
    "assert \"{0:.2f}\".format(probability_uniform(1, 5, 0, 10)) == '0.40'"
   ]
  }
 ],
 "metadata": {
  "kernelspec": {
   "display_name": "Python 3",
   "language": "python",
   "name": "python3"
  },
  "language_info": {
   "codemirror_mode": {
    "name": "ipython",
    "version": 3
   },
   "file_extension": ".py",
   "mimetype": "text/x-python",
   "name": "python",
   "nbconvert_exporter": "python",
   "pygments_lexer": "ipython3",
   "version": "3.6.1"
  }
 },
 "nbformat": 4,
 "nbformat_minor": 2
}
